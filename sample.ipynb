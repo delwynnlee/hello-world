{
 "cells": [
  {
   "cell_type": "code",
   "execution_count": 1,
   "metadata": {},
   "outputs": [],
   "source": [
    "import pandas as pd\n",
    "import numpy as np\n",
    "import matplotlib.pyplot as plt\n",
    "import seaborn as sns\n",
    "from pprint import pprint\n",
    "\n",
    "order_df = pd.read_csv('order_df_sub1.csv')\n",
    "\n",
    "customer_level =\\\n",
    "order_df.groupby('customer_unique_id').agg({\n",
    "    'order_id': 'count',\n",
    "    'total_order_value': 'sum',\n",
    "    'review_score': 'mean'\n",
    "})\n",
    "\n",
    "customer_level.columns = ['num_of_orders', 'customer_total_order_value', 'mean_review_score']\n",
    "\n",
    "customer_level =\\\n",
    "order_df.groupby('customer_unique_id').agg({\n",
    "    'order_id': 'count',\n",
    "    'total_order_value': 'sum',\n",
    "    'review_score': 'mean'\n",
    "})\n",
    "\n",
    "customer_level.columns = ['num_of_orders', 'customer_total_order_value', 'mean_review_score']\n",
    "\n",
    "customer_level['repeat_customer'] = np.where(customer_level['num_of_orders']>1, 1, 0)\n",
    "\n",
    "order_df = order_df.merge(customer_level.reset_index(), on='customer_unique_id', how='left')\n",
    "\n",
    "order_df['lateness'] = order_df['order_to_delivery_dd'] / order_df['order_to_estimated_dd']"
   ]
  },
  {
   "cell_type": "code",
   "execution_count": 28,
   "metadata": {},
   "outputs": [
    {
     "data": {
      "text/html": [
       "<div>\n",
       "<style scoped>\n",
       "    .dataframe tbody tr th:only-of-type {\n",
       "        vertical-align: middle;\n",
       "    }\n",
       "\n",
       "    .dataframe tbody tr th {\n",
       "        vertical-align: top;\n",
       "    }\n",
       "\n",
       "    .dataframe thead th {\n",
       "        text-align: right;\n",
       "    }\n",
       "</style>\n",
       "<table border=\"1\" class=\"dataframe\">\n",
       "  <thead>\n",
       "    <tr style=\"text-align: right;\">\n",
       "      <th></th>\n",
       "      <th>order_id</th>\n",
       "      <th>order_status</th>\n",
       "      <th>order_ts</th>\n",
       "      <th>delivered_ts</th>\n",
       "      <th>est_delivery_date</th>\n",
       "      <th>payment_type</th>\n",
       "      <th>customer_unique_id</th>\n",
       "      <th>customer_zip_code</th>\n",
       "      <th>customer_city</th>\n",
       "      <th>customer_state</th>\n",
       "      <th>...</th>\n",
       "      <th>order_to_delivery_range_v2</th>\n",
       "      <th>is_same_state</th>\n",
       "      <th>num_seller_states</th>\n",
       "      <th>num_of_orders</th>\n",
       "      <th>customer_total_order_value</th>\n",
       "      <th>mean_review_score</th>\n",
       "      <th>repeat_customer</th>\n",
       "      <th>lateness</th>\n",
       "      <th>actual_delivery_date_bin</th>\n",
       "      <th>estimated_delivery_date_bin</th>\n",
       "    </tr>\n",
       "  </thead>\n",
       "  <tbody>\n",
       "    <tr>\n",
       "      <th>0</th>\n",
       "      <td>00010242fe8c5a6d1ba2dd792cb16214</td>\n",
       "      <td>delivered</td>\n",
       "      <td>2017-09-13</td>\n",
       "      <td>2017-09-20</td>\n",
       "      <td>2017-09-29</td>\n",
       "      <td>credit_card</td>\n",
       "      <td>871766c5855e863f6eccc05f988b23cb</td>\n",
       "      <td>28013</td>\n",
       "      <td>campos dos goytacazes</td>\n",
       "      <td>RJ</td>\n",
       "      <td>...</td>\n",
       "      <td>&lt; 7.8 days</td>\n",
       "      <td>0</td>\n",
       "      <td>1</td>\n",
       "      <td>1</td>\n",
       "      <td>72.19</td>\n",
       "      <td>5.0</td>\n",
       "      <td>0</td>\n",
       "      <td>0.437500</td>\n",
       "      <td>1. short</td>\n",
       "      <td>2. medium</td>\n",
       "    </tr>\n",
       "    <tr>\n",
       "      <th>1</th>\n",
       "      <td>00018f77f2f0320c557190d7a144bdd3</td>\n",
       "      <td>delivered</td>\n",
       "      <td>2017-04-26</td>\n",
       "      <td>2017-05-12</td>\n",
       "      <td>2017-05-15</td>\n",
       "      <td>credit_card</td>\n",
       "      <td>eb28e67c4c0b83846050ddfb8a35d051</td>\n",
       "      <td>15775</td>\n",
       "      <td>santa fe do sul</td>\n",
       "      <td>SP</td>\n",
       "      <td>...</td>\n",
       "      <td>Between 7.8 to 17.3 days</td>\n",
       "      <td>1</td>\n",
       "      <td>1</td>\n",
       "      <td>2</td>\n",
       "      <td>284.56</td>\n",
       "      <td>4.5</td>\n",
       "      <td>1</td>\n",
       "      <td>0.842105</td>\n",
       "      <td>2. medium</td>\n",
       "      <td>3. long</td>\n",
       "    </tr>\n",
       "    <tr>\n",
       "      <th>2</th>\n",
       "      <td>000229ec398224ef6ca0657da4fc703e</td>\n",
       "      <td>delivered</td>\n",
       "      <td>2018-01-14</td>\n",
       "      <td>2018-01-22</td>\n",
       "      <td>2018-02-05</td>\n",
       "      <td>credit_card</td>\n",
       "      <td>3818d81c6709e39d06b2738a8d3a2474</td>\n",
       "      <td>35661</td>\n",
       "      <td>para de minas</td>\n",
       "      <td>MG</td>\n",
       "      <td>...</td>\n",
       "      <td>Between 7.8 to 17.3 days</td>\n",
       "      <td>1</td>\n",
       "      <td>1</td>\n",
       "      <td>1</td>\n",
       "      <td>216.87</td>\n",
       "      <td>5.0</td>\n",
       "      <td>0</td>\n",
       "      <td>0.363636</td>\n",
       "      <td>2. medium</td>\n",
       "      <td>3. long</td>\n",
       "    </tr>\n",
       "    <tr>\n",
       "      <th>3</th>\n",
       "      <td>00024acbcdf0a6daa1e931b038114c75</td>\n",
       "      <td>delivered</td>\n",
       "      <td>2018-08-08</td>\n",
       "      <td>2018-08-14</td>\n",
       "      <td>2018-08-20</td>\n",
       "      <td>credit_card</td>\n",
       "      <td>af861d436cfc08b2c2ddefd0ba074622</td>\n",
       "      <td>12952</td>\n",
       "      <td>atibaia</td>\n",
       "      <td>SP</td>\n",
       "      <td>...</td>\n",
       "      <td>&lt; 7.8 days</td>\n",
       "      <td>1</td>\n",
       "      <td>1</td>\n",
       "      <td>1</td>\n",
       "      <td>25.78</td>\n",
       "      <td>4.0</td>\n",
       "      <td>0</td>\n",
       "      <td>0.500000</td>\n",
       "      <td>1. short</td>\n",
       "      <td>2. medium</td>\n",
       "    </tr>\n",
       "    <tr>\n",
       "      <th>4</th>\n",
       "      <td>00042b26cf59d7ce69dfabb4e55b4fd9</td>\n",
       "      <td>delivered</td>\n",
       "      <td>2017-02-04</td>\n",
       "      <td>2017-03-01</td>\n",
       "      <td>2017-03-17</td>\n",
       "      <td>credit_card</td>\n",
       "      <td>64b576fb70d441e8f1b2d7d446e483c5</td>\n",
       "      <td>13226</td>\n",
       "      <td>varzea paulista</td>\n",
       "      <td>SP</td>\n",
       "      <td>...</td>\n",
       "      <td>&gt; 17.3 days</td>\n",
       "      <td>0</td>\n",
       "      <td>1</td>\n",
       "      <td>1</td>\n",
       "      <td>218.04</td>\n",
       "      <td>5.0</td>\n",
       "      <td>0</td>\n",
       "      <td>0.609756</td>\n",
       "      <td>3. long</td>\n",
       "      <td>3. long</td>\n",
       "    </tr>\n",
       "  </tbody>\n",
       "</table>\n",
       "<p>5 rows × 41 columns</p>\n",
       "</div>"
      ],
      "text/plain": [
       "                           order_id order_status    order_ts delivered_ts  \\\n",
       "0  00010242fe8c5a6d1ba2dd792cb16214    delivered  2017-09-13   2017-09-20   \n",
       "1  00018f77f2f0320c557190d7a144bdd3    delivered  2017-04-26   2017-05-12   \n",
       "2  000229ec398224ef6ca0657da4fc703e    delivered  2018-01-14   2018-01-22   \n",
       "3  00024acbcdf0a6daa1e931b038114c75    delivered  2018-08-08   2018-08-14   \n",
       "4  00042b26cf59d7ce69dfabb4e55b4fd9    delivered  2017-02-04   2017-03-01   \n",
       "\n",
       "  est_delivery_date payment_type                customer_unique_id  \\\n",
       "0        2017-09-29  credit_card  871766c5855e863f6eccc05f988b23cb   \n",
       "1        2017-05-15  credit_card  eb28e67c4c0b83846050ddfb8a35d051   \n",
       "2        2018-02-05  credit_card  3818d81c6709e39d06b2738a8d3a2474   \n",
       "3        2018-08-20  credit_card  af861d436cfc08b2c2ddefd0ba074622   \n",
       "4        2017-03-17  credit_card  64b576fb70d441e8f1b2d7d446e483c5   \n",
       "\n",
       "   customer_zip_code          customer_city customer_state  ...  \\\n",
       "0              28013  campos dos goytacazes             RJ  ...   \n",
       "1              15775        santa fe do sul             SP  ...   \n",
       "2              35661          para de minas             MG  ...   \n",
       "3              12952                atibaia             SP  ...   \n",
       "4              13226        varzea paulista             SP  ...   \n",
       "\n",
       "   order_to_delivery_range_v2  is_same_state  num_seller_states  \\\n",
       "0                  < 7.8 days              0                  1   \n",
       "1    Between 7.8 to 17.3 days              1                  1   \n",
       "2    Between 7.8 to 17.3 days              1                  1   \n",
       "3                  < 7.8 days              1                  1   \n",
       "4                 > 17.3 days              0                  1   \n",
       "\n",
       "   num_of_orders  customer_total_order_value  mean_review_score  \\\n",
       "0              1                       72.19                5.0   \n",
       "1              2                      284.56                4.5   \n",
       "2              1                      216.87                5.0   \n",
       "3              1                       25.78                4.0   \n",
       "4              1                      218.04                5.0   \n",
       "\n",
       "   repeat_customer  lateness  actual_delivery_date_bin  \\\n",
       "0                0  0.437500                  1. short   \n",
       "1                1  0.842105                 2. medium   \n",
       "2                0  0.363636                 2. medium   \n",
       "3                0  0.500000                  1. short   \n",
       "4                0  0.609756                   3. long   \n",
       "\n",
       "   estimated_delivery_date_bin  \n",
       "0                    2. medium  \n",
       "1                      3. long  \n",
       "2                      3. long  \n",
       "3                    2. medium  \n",
       "4                      3. long  \n",
       "\n",
       "[5 rows x 41 columns]"
      ]
     },
     "execution_count": 28,
     "metadata": {},
     "output_type": "execute_result"
    }
   ],
   "source": [
    "order_df.head()"
   ]
  },
  {
   "cell_type": "code",
   "execution_count": 29,
   "metadata": {},
   "outputs": [
    {
     "data": {
      "text/html": [
       "<div>\n",
       "<style scoped>\n",
       "    .dataframe tbody tr th:only-of-type {\n",
       "        vertical-align: middle;\n",
       "    }\n",
       "\n",
       "    .dataframe tbody tr th {\n",
       "        vertical-align: top;\n",
       "    }\n",
       "\n",
       "    .dataframe thead th {\n",
       "        text-align: right;\n",
       "    }\n",
       "</style>\n",
       "<table border=\"1\" class=\"dataframe\">\n",
       "  <thead>\n",
       "    <tr style=\"text-align: right;\">\n",
       "      <th></th>\n",
       "      <th>num_of_orders</th>\n",
       "      <th>customer_total_order_value</th>\n",
       "      <th>mean_review_score</th>\n",
       "      <th>repeat_customer</th>\n",
       "    </tr>\n",
       "    <tr>\n",
       "      <th>customer_unique_id</th>\n",
       "      <th></th>\n",
       "      <th></th>\n",
       "      <th></th>\n",
       "      <th></th>\n",
       "    </tr>\n",
       "  </thead>\n",
       "  <tbody>\n",
       "    <tr>\n",
       "      <th>0000366f3b9a7992bf8c76cfdf3221e2</th>\n",
       "      <td>1</td>\n",
       "      <td>141.90</td>\n",
       "      <td>5.0</td>\n",
       "      <td>0</td>\n",
       "    </tr>\n",
       "    <tr>\n",
       "      <th>0000b849f77a49e4a4ce2b2a4ca5be3f</th>\n",
       "      <td>1</td>\n",
       "      <td>27.19</td>\n",
       "      <td>4.0</td>\n",
       "      <td>0</td>\n",
       "    </tr>\n",
       "    <tr>\n",
       "      <th>0000f46a3911fa3c0805444483337064</th>\n",
       "      <td>1</td>\n",
       "      <td>86.22</td>\n",
       "      <td>3.0</td>\n",
       "      <td>0</td>\n",
       "    </tr>\n",
       "    <tr>\n",
       "      <th>0000f6ccb0745a6a4b88665a16c9f078</th>\n",
       "      <td>1</td>\n",
       "      <td>43.62</td>\n",
       "      <td>4.0</td>\n",
       "      <td>0</td>\n",
       "    </tr>\n",
       "    <tr>\n",
       "      <th>0004aac84e0df4da2b147fca70cf8255</th>\n",
       "      <td>1</td>\n",
       "      <td>196.89</td>\n",
       "      <td>5.0</td>\n",
       "      <td>0</td>\n",
       "    </tr>\n",
       "  </tbody>\n",
       "</table>\n",
       "</div>"
      ],
      "text/plain": [
       "                                  num_of_orders  customer_total_order_value  \\\n",
       "customer_unique_id                                                            \n",
       "0000366f3b9a7992bf8c76cfdf3221e2              1                      141.90   \n",
       "0000b849f77a49e4a4ce2b2a4ca5be3f              1                       27.19   \n",
       "0000f46a3911fa3c0805444483337064              1                       86.22   \n",
       "0000f6ccb0745a6a4b88665a16c9f078              1                       43.62   \n",
       "0004aac84e0df4da2b147fca70cf8255              1                      196.89   \n",
       "\n",
       "                                  mean_review_score  repeat_customer  \n",
       "customer_unique_id                                                    \n",
       "0000366f3b9a7992bf8c76cfdf3221e2                5.0                0  \n",
       "0000b849f77a49e4a4ce2b2a4ca5be3f                4.0                0  \n",
       "0000f46a3911fa3c0805444483337064                3.0                0  \n",
       "0000f6ccb0745a6a4b88665a16c9f078                4.0                0  \n",
       "0004aac84e0df4da2b147fca70cf8255                5.0                0  "
      ]
     },
     "execution_count": 29,
     "metadata": {},
     "output_type": "execute_result"
    }
   ],
   "source": [
    "customer_level.head()"
   ]
  },
  {
   "cell_type": "code",
   "execution_count": 2,
   "metadata": {},
   "outputs": [
    {
     "data": {
      "text/plain": [
       "310.3922623434046"
      ]
     },
     "execution_count": 2,
     "metadata": {},
     "output_type": "execute_result"
    }
   ],
   "source": [
    "# Average value of customer who does repeat purchase\n",
    "customer_level[customer_level['repeat_customer']==1]['customer_total_order_value'].mean()"
   ]
  },
  {
   "cell_type": "code",
   "execution_count": 3,
   "metadata": {},
   "outputs": [
    {
     "data": {
      "text/plain": [
       "160.86768820230284"
      ]
     },
     "execution_count": 3,
     "metadata": {},
     "output_type": "execute_result"
    }
   ],
   "source": [
    "# Average value of customer who does only one time purchase\n",
    "customer_level[customer_level['repeat_customer']==0]['customer_total_order_value'].mean()"
   ]
  },
  {
   "cell_type": "code",
   "execution_count": 4,
   "metadata": {},
   "outputs": [
    {
     "data": {
      "text/plain": [
       "2714"
      ]
     },
     "execution_count": 4,
     "metadata": {},
     "output_type": "execute_result"
    }
   ],
   "source": [
    "# Number of customers with repeat purchase\n",
    "len(customer_level[customer_level['repeat_customer']==1])"
   ]
  },
  {
   "cell_type": "code",
   "execution_count": 5,
   "metadata": {},
   "outputs": [
    {
     "data": {
      "text/plain": [
       "88814"
      ]
     },
     "execution_count": 5,
     "metadata": {},
     "output_type": "execute_result"
    }
   ],
   "source": [
    "# Number of customers with only one-time purchase\n",
    "len(customer_level[customer_level['repeat_customer']==0])"
   ]
  },
  {
   "cell_type": "code",
   "execution_count": 6,
   "metadata": {},
   "outputs": [
    {
     "data": {
      "text/plain": [
       "165.30141006030237"
      ]
     },
     "execution_count": 6,
     "metadata": {},
     "output_type": "execute_result"
    }
   ],
   "source": [
    "customer_level['customer_total_order_value'].mean()"
   ]
  },
  {
   "cell_type": "code",
   "execution_count": 7,
   "metadata": {},
   "outputs": [],
   "source": [
    "def order_delivery_bin(row, i):\n",
    "    lst = [[7.8, 17.3]]\n",
    "    \n",
    "    if row[0] < lst[i][0]:\n",
    "        return \"1. short\"\n",
    "    elif row[0] <= lst[i][1]:\n",
    "        return \"2. medium\"\n",
    "    else:\n",
    "        return \"3. long\"\n",
    "    \n",
    "order_df['actual_delivery_date_bin'] = order_df[['order_to_delivery_dd']]\\\n",
    "                                            .apply(lambda x: order_delivery_bin(x, 0), axis=1)    \n",
    "\n",
    "order_df['estimated_delivery_date_bin'] = order_df[['order_to_estimated_dd']]\\\n",
    "                                            .apply(lambda x: order_delivery_bin(x, 0), axis=1)  "
   ]
  },
  {
   "cell_type": "code",
   "execution_count": 8,
   "metadata": {
    "scrolled": false
   },
   "outputs": [
    {
     "name": "stdout",
     "output_type": "stream",
     "text": [
      "mean_review_score - mean\n",
      "\n",
      "actual_delivery_date_bin     1. short  2. medium   3. long\n",
      "estimated_delivery_date_bin                               \n",
      "1. short                     4.466822   2.917989  2.666667\n",
      "2. medium                    4.416217   4.138299  2.277877\n",
      "3. long                      4.383345   4.278880  3.473455\n",
      "\n",
      "\n",
      "\n",
      "num_of_orders - mean\n",
      "\n",
      "actual_delivery_date_bin     1. short  2. medium   3. long\n",
      "estimated_delivery_date_bin                               \n",
      "1. short                     1.059371   1.063492  1.000000\n",
      "2. medium                    1.081615   1.057757  1.040925\n",
      "3. long                      1.076030   1.076622  1.068830\n",
      "\n",
      "\n",
      "\n",
      "order_id - count\n",
      "\n",
      "actual_delivery_date_bin     1. short  2. medium  3. long\n",
      "estimated_delivery_date_bin                              \n",
      "1. short                          859        126        3\n",
      "2. medium                       12706       4467      562\n",
      "3. long                         16112      41372    18335\n",
      "\n",
      "\n",
      "\n"
     ]
    }
   ],
   "source": [
    "\n",
    "lst3 = ['mean_review_score', 'num_of_orders', 'order_id']\n",
    "lst4 = ['mean', 'mean', 'count']\n",
    "\n",
    "lst_of_df = []\n",
    "    \n",
    "for i, j in zip(lst3, lst4):\n",
    "    print(i + ' - ' + j + '\\n')\n",
    "\n",
    "    df = order_df.pivot_table(values = i,\n",
    "                        index = 'estimated_delivery_date_bin',\n",
    "                        columns = 'actual_delivery_date_bin',\n",
    "                        aggfunc = j)\n",
    "    pprint(df)\n",
    "\n",
    "    lst_of_df.append(df)\n",
    "\n",
    "    print('\\n\\n')"
   ]
  },
  {
   "cell_type": "code",
   "execution_count": 9,
   "metadata": {},
   "outputs": [
    {
     "data": {
      "text/html": [
       "<div>\n",
       "<style scoped>\n",
       "    .dataframe tbody tr th:only-of-type {\n",
       "        vertical-align: middle;\n",
       "    }\n",
       "\n",
       "    .dataframe tbody tr th {\n",
       "        vertical-align: top;\n",
       "    }\n",
       "\n",
       "    .dataframe thead th {\n",
       "        text-align: right;\n",
       "    }\n",
       "</style>\n",
       "<table border=\"1\" class=\"dataframe\">\n",
       "  <thead>\n",
       "    <tr style=\"text-align: right;\">\n",
       "      <th>actual_delivery_date_bin</th>\n",
       "      <th>1. short</th>\n",
       "      <th>2. medium</th>\n",
       "      <th>3. long</th>\n",
       "    </tr>\n",
       "    <tr>\n",
       "      <th>estimated_delivery_date_bin</th>\n",
       "      <th></th>\n",
       "      <th></th>\n",
       "      <th></th>\n",
       "    </tr>\n",
       "  </thead>\n",
       "  <tbody>\n",
       "    <tr>\n",
       "      <th>1. short</th>\n",
       "      <td>0.009086</td>\n",
       "      <td>0.001333</td>\n",
       "      <td>0.000032</td>\n",
       "    </tr>\n",
       "    <tr>\n",
       "      <th>2. medium</th>\n",
       "      <td>0.134395</td>\n",
       "      <td>0.047249</td>\n",
       "      <td>0.005944</td>\n",
       "    </tr>\n",
       "    <tr>\n",
       "      <th>3. long</th>\n",
       "      <td>0.170422</td>\n",
       "      <td>0.437604</td>\n",
       "      <td>0.193935</td>\n",
       "    </tr>\n",
       "  </tbody>\n",
       "</table>\n",
       "</div>"
      ],
      "text/plain": [
       "actual_delivery_date_bin     1. short  2. medium   3. long\n",
       "estimated_delivery_date_bin                               \n",
       "1. short                     0.009086   0.001333  0.000032\n",
       "2. medium                    0.134395   0.047249  0.005944\n",
       "3. long                      0.170422   0.437604  0.193935"
      ]
     },
     "execution_count": 9,
     "metadata": {},
     "output_type": "execute_result"
    }
   ],
   "source": [
    "current_probs = lst_of_df[2] / lst_of_df[2].sum().sum()\n",
    "current_probs"
   ]
  },
  {
   "cell_type": "code",
   "execution_count": 10,
   "metadata": {},
   "outputs": [
    {
     "name": "stdout",
     "output_type": "stream",
     "text": [
      "Optimization terminated successfully.\n",
      "         Current function value: 0.228513\n",
      "         Iterations 7\n"
     ]
    },
    {
     "data": {
      "text/html": [
       "<table class=\"simpletable\">\n",
       "<tr>\n",
       "        <td>Model:</td>              <td>Logit</td>      <td>Pseudo R-squared:</td>    <td>0.000</td>  \n",
       "</tr>\n",
       "<tr>\n",
       "  <td>Dependent Variable:</td>  <td>repeat_customer</td>       <td>AIC:</td>        <td>43212.2277</td>\n",
       "</tr>\n",
       "<tr>\n",
       "         <td>Date:</td>        <td>2020-11-19 09:01</td>       <td>BIC:</td>        <td>43231.1413</td>\n",
       "</tr>\n",
       "<tr>\n",
       "   <td>No. Observations:</td>        <td>94542</td>       <td>Log-Likelihood:</td>    <td>-21604.</td> \n",
       "</tr>\n",
       "<tr>\n",
       "       <td>Df Model:</td>              <td>1</td>            <td>LL-Null:</td>        <td>-21610.</td> \n",
       "</tr>\n",
       "<tr>\n",
       "     <td>Df Residuals:</td>          <td>94540</td>        <td>LLR p-value:</td>    <td>0.00042154</td>\n",
       "</tr>\n",
       "<tr>\n",
       "      <td>Converged:</td>           <td>1.0000</td>           <td>Scale:</td>         <td>1.0000</td>  \n",
       "</tr>\n",
       "<tr>\n",
       "    <td>No. Iterations:</td>        <td>7.0000</td>              <td></td>               <td></td>     \n",
       "</tr>\n",
       "</table>\n",
       "<table class=\"simpletable\">\n",
       "<tr>\n",
       "        <td></td>        <th>Coef.</th>  <th>Std.Err.</th>     <th>z</th>     <th>P>|z|</th> <th>[0.025</th>  <th>0.975]</th> \n",
       "</tr>\n",
       "<tr>\n",
       "  <th>const</th>        <td>-2.8990</td>  <td>0.0475</td>  <td>-60.9694</td> <td>0.0000</td> <td>-2.9922</td> <td>-2.8058</td>\n",
       "</tr>\n",
       "<tr>\n",
       "  <th>review_score</th> <td>0.0379</td>   <td>0.0109</td>   <td>3.4879</td>  <td>0.0005</td> <td>0.0166</td>  <td>0.0592</td> \n",
       "</tr>\n",
       "</table>"
      ],
      "text/plain": [
       "<class 'statsmodels.iolib.summary2.Summary'>\n",
       "\"\"\"\n",
       "                         Results: Logit\n",
       "=================================================================\n",
       "Model:              Logit            Pseudo R-squared: 0.000     \n",
       "Dependent Variable: repeat_customer  AIC:              43212.2277\n",
       "Date:               2020-11-19 09:01 BIC:              43231.1413\n",
       "No. Observations:   94542            Log-Likelihood:   -21604.   \n",
       "Df Model:           1                LL-Null:          -21610.   \n",
       "Df Residuals:       94540            LLR p-value:      0.00042154\n",
       "Converged:          1.0000           Scale:            1.0000    \n",
       "No. Iterations:     7.0000                                       \n",
       "-----------------------------------------------------------------\n",
       "                  Coef.  Std.Err.    z     P>|z|   [0.025  0.975]\n",
       "-----------------------------------------------------------------\n",
       "const            -2.8990   0.0475 -60.9694 0.0000 -2.9922 -2.8058\n",
       "review_score      0.0379   0.0109   3.4879 0.0005  0.0166  0.0592\n",
       "=================================================================\n",
       "\n",
       "\"\"\""
      ]
     },
     "execution_count": 10,
     "metadata": {},
     "output_type": "execute_result"
    }
   ],
   "source": [
    "# Logistic regression: repeat customer on review score\n",
    "from statsmodels.api import Logit\n",
    "from statsmodels.tools.tools import add_constant\n",
    "\n",
    "y = order_df['repeat_customer']\n",
    "X = order_df[['review_score']]\n",
    "\n",
    "X = add_constant(X)\n",
    "\n",
    "logit = Logit(y, X).fit()\n",
    "logit.summary2()"
   ]
  },
  {
   "cell_type": "code",
   "execution_count": 11,
   "metadata": {},
   "outputs": [
    {
     "data": {
      "text/plain": [
       "const          -2.899040\n",
       "review_score    0.037877\n",
       "dtype: float64"
      ]
     },
     "execution_count": 11,
     "metadata": {},
     "output_type": "execute_result"
    }
   ],
   "source": [
    "beta0 = logit.params[0]\n",
    "beta1 = logit.params[1]\n",
    "\n",
    "logit.params"
   ]
  },
  {
   "cell_type": "code",
   "execution_count": 12,
   "metadata": {},
   "outputs": [],
   "source": [
    "def class_prob(score):\n",
    "    return np.exp(beta0 + beta1 * score) / (1 + np.exp(beta0 + beta1 * score))\n",
    "\n",
    "def expected_value(array):\n",
    "    aov = 165\n",
    "    recur = 150\n",
    "    review_scores = np.array(lst_of_df[0])\n",
    "    penalty1 = 0.05\n",
    "    penalty2 = 0.10\n",
    "\n",
    "    return array[0,0] * class_prob(review_scores[0,0]) * recur +\\\n",
    "                array[0,1] * class_prob(review_scores[0,1]) * recur +\\\n",
    "                array[0,2] * class_prob(review_scores[0,2]) * recur +\\\n",
    "                array[1,0] * (class_prob(review_scores[1,0]) * recur - penalty1 * aov) +\\\n",
    "                array[1,1] * class_prob(review_scores[1,1]) * recur +\\\n",
    "                array[1,2] * class_prob(review_scores[1,2]) * recur +\\\n",
    "                array[2,0] * (class_prob(review_scores[2,0]) * recur - penalty2 * aov) +\\\n",
    "                array[2,1] * (class_prob(review_scores[2,1]) * recur - penalty1 * aov) +\\\n",
    "                array[2,2] * class_prob(review_scores[2,2]) * recur"
   ]
  },
  {
   "cell_type": "code",
   "execution_count": 13,
   "metadata": {},
   "outputs": [
    {
     "data": {
      "text/plain": [
       "0.06022626565912627"
      ]
     },
     "execution_count": 13,
     "metadata": {},
     "output_type": "execute_result"
    }
   ],
   "source": [
    "class_prob(4)"
   ]
  },
  {
   "cell_type": "code",
   "execution_count": 14,
   "metadata": {},
   "outputs": [],
   "source": [
    "# Existing olist expected value\n",
    "\n",
    "array = np.array(current_probs)\n",
    "\n",
    "olist = expected_value(array)"
   ]
  },
  {
   "cell_type": "code",
   "execution_count": 15,
   "metadata": {},
   "outputs": [
    {
     "data": {
      "text/plain": [
       "array([[9.08590891e-03, 1.33274100e-03, 3.17319287e-05],\n",
       "       [1.34395295e-01, 4.72488418e-02, 5.94444797e-03],\n",
       "       [1.70421612e-01, 4.37604451e-01, 1.93934971e-01]])"
      ]
     },
     "execution_count": 15,
     "metadata": {},
     "output_type": "execute_result"
    }
   ],
   "source": [
    "np.array(current_probs)"
   ]
  },
  {
   "cell_type": "markdown",
   "metadata": {},
   "source": [
    "### Expected value from prediction models"
   ]
  },
  {
   "cell_type": "code",
   "execution_count": 16,
   "metadata": {},
   "outputs": [
    {
     "data": {
      "text/plain": [
       "5.888380941572148"
      ]
     },
     "execution_count": 16,
     "metadata": {},
     "output_type": "execute_result"
    }
   ],
   "source": [
    "# Multinomial logit model\n",
    "\n",
    "array = np.array([[5793, 47, 3102], [392, 995, 4354], [2938, 706, 10036]]).transpose()\n",
    "array = array/array.sum()\n",
    "\n",
    "mnl = expected_value(array)\n",
    "mnl"
   ]
  },
  {
   "cell_type": "code",
   "execution_count": 17,
   "metadata": {},
   "outputs": [
    {
     "data": {
      "text/plain": [
       "5.834672231083154"
      ]
     },
     "execution_count": 17,
     "metadata": {},
     "output_type": "execute_result"
    }
   ],
   "source": [
    "# SVM\n",
    "\n",
    "array = np.array([[6122, 0, 2820], [580, 0, 5161],[3496, 0, 10184]]).transpose()\n",
    "array = array/array.sum()\n",
    "\n",
    "svm = expected_value(array)\n",
    "svm"
   ]
  },
  {
   "cell_type": "code",
   "execution_count": 18,
   "metadata": {},
   "outputs": [
    {
     "data": {
      "text/plain": [
       "5.309991765728322"
      ]
     },
     "execution_count": 18,
     "metadata": {},
     "output_type": "execute_result"
    }
   ],
   "source": [
    "# Decision tree\n",
    "\n",
    "array = np.array([[4820, 48, 4074], [237, 1068, 4436], [1673, 807, 11200]]).transpose()\n",
    "array = array/array.sum()\n",
    "\n",
    "dtree = expected_value(array)\n",
    "dtree"
   ]
  },
  {
   "cell_type": "code",
   "execution_count": 19,
   "metadata": {},
   "outputs": [
    {
     "data": {
      "text/plain": [
       "5.507136221480607"
      ]
     },
     "execution_count": 19,
     "metadata": {},
     "output_type": "execute_result"
    }
   ],
   "source": [
    "# Gradient boosting\n",
    "\n",
    "array = np.array([[5085, 70, 3787], [229, 1207, 4305], [1795, 853, 11032]]).transpose()\n",
    "array = array/array.sum()\n",
    "\n",
    "gbm = expected_value(array)\n",
    "gbm"
   ]
  },
  {
   "cell_type": "code",
   "execution_count": 20,
   "metadata": {},
   "outputs": [
    {
     "data": {
      "text/plain": [
       "5.595561768856115"
      ]
     },
     "execution_count": 20,
     "metadata": {},
     "output_type": "execute_result"
    }
   ],
   "source": [
    "# XG boost\n",
    "\n",
    "array = np.array([[5166, 61, 3715], [246, 1341, 4154], [1744, 857, 11079]]).transpose()\n",
    "array = array/array.sum()\n",
    "\n",
    "xgb = expected_value(array)\n",
    "xgb"
   ]
  },
  {
   "cell_type": "code",
   "execution_count": 24,
   "metadata": {},
   "outputs": [
    {
     "name": "stdout",
     "output_type": "stream",
     "text": [
      "[[0.17653281 0.0078271  0.05916158]\n",
      " [0.00119874 0.03518669 0.02185946]\n",
      " [0.13753834 0.15939781 0.40129747]]\n"
     ]
    },
    {
     "data": {
      "text/plain": [
       "5.392893677815634"
      ]
     },
     "execution_count": 24,
     "metadata": {},
     "output_type": "execute_result"
    }
   ],
   "source": [
    "# Random forest\n",
    "\n",
    "array = np.array([[5007, 34, 3901], [222, 998, 4521], [1678, 620, 11382]]).transpose()\n",
    "array = array/array.sum()\n",
    "\n",
    "print(array)\n",
    "\n",
    "rf = expected_value(array)\n",
    "rf"
   ]
  },
  {
   "cell_type": "code",
   "execution_count": null,
   "metadata": {},
   "outputs": [],
   "source": []
  },
  {
   "cell_type": "code",
   "execution_count": 22,
   "metadata": {},
   "outputs": [],
   "source": [
    "all_expected_value = pd.DataFrame(np.array([['MNL',mnl],['SVM',svm],['Dtree',dtree],['GBM',gbm],['XGB',xgb],['RF',rf]]),\n",
    "                   columns=['models', 'expected_value'])\n",
    "all_expected_value['expected_value'] = all_expected_value['expected_value'].astype(float)"
   ]
  },
  {
   "cell_type": "code",
   "execution_count": 23,
   "metadata": {},
   "outputs": [
    {
     "data": {
      "image/png": "[encoded data removed]",
      "text/plain": [
       "<Figure size 720x360 with 1 Axes>"
      ]
     },
     "metadata": {
      "needs_background": "light"
     },
     "output_type": "display_data"
    }
   ],
   "source": [
    "def show_values_on_bars(axs):\n",
    "    def _show_on_single_plot(ax):        \n",
    "        for p in ax.patches:\n",
    "            _x = p.get_x() + p.get_width() / 2\n",
    "            _y = p.get_y() + p.get_height()\n",
    "            value = '{:.2f}'.format(p.get_height())\n",
    "            ax.text(_x, _y, value, ha=\"center\",fontsize=12) \n",
    "\n",
    "    if isinstance(axs, np.ndarray):\n",
    "        for idx, ax in np.ndenumerate(axs):\n",
    "            _show_on_single_plot(ax)\n",
    "    else:\n",
    "        _show_on_single_plot(axs)\n",
    "\n",
    "fig = plt.figure(figsize=(10,5))\n",
    "ax = fig.add_subplot(111)\n",
    "g = sns.barplot(x='models',y='expected_value',data=all_expected_value, color='cornflowerblue',order=all_expected_value.sort_values(by='expected_value',ascending=False)['models'])\n",
    "h = plt.axhline(olist,c='red',linestyle='--')\n",
    "\n",
    "plt.text(3.8,1.8,\"Olist's Current Expected Value\",bbox=dict(facecolor='yellow', alpha=0.5),rotation=0)\n",
    "\n",
    "plt.title('Expected Value from All Models')\n",
    "for label in ax.get_xticklabels():\n",
    "    label.set_ha(\"right\")\n",
    "    label.set_rotation(0)\n",
    "    \n",
    "show_values_on_bars(ax)"
   ]
  },
  {
   "cell_type": "code",
   "execution_count": null,
   "metadata": {},
   "outputs": [],
   "source": []
  }
 ],
 "metadata": {
  "kernelspec": {
   "display_name": "Python 3",
   "language": "python",
   "name": "python3"
  },
  "language_info": {
   "codemirror_mode": {
    "name": "ipython",
    "version": 3
   },
   "file_extension": ".py",
   "mimetype": "text/x-python",
   "name": "python",
   "nbconvert_exporter": "python",
   "pygments_lexer": "ipython3",
   "version": "3.7.6"
  }
 },
 "nbformat": 4,
 "nbformat_minor": 4
}
